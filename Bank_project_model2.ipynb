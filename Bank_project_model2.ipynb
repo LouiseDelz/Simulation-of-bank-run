{
 "cells": [
  {
   "cell_type": "markdown",
   "metadata": {},
   "source": [
    "## Model test 2\n",
    "\n",
    "$N = 100$ people in the bank\n",
    "\n",
    "We decide a threshold of the rate of departure and if the estimation is above, people decide to leave if not, they stay. \n",
    "\n",
    "Their belief is based on the previous rate of departure $f$ + a gaussian noise with mean 0 and variance $\\sigma$\n",
    "\n",
    "\n",
    "    "
   ]
  },
  {
   "cell_type": "code",
   "execution_count": 1,
   "metadata": {},
   "outputs": [],
   "source": [
    "import numpy as np\n",
    "import random"
   ]
  },
  {
   "cell_type": "code",
   "execution_count": 22,
   "metadata": {},
   "outputs": [
    {
     "name": "stdout",
     "output_type": "stream",
     "text": [
      "0.86 0.61 21\n",
      "1.0119047619047619 0.7619047619047619 10\n",
      "1.25 1.0 8\n",
      "1.25 1.0 10\n",
      "1.25 1.0 17\n",
      "1.25 1.0 3\n",
      "1.25 1.0 17\n",
      "1.1911764705882353 0.9411764705882353 8\n",
      "1.25 1.0 13\n",
      "Bankruuuuupt T_T\n"
     ]
    }
   ],
   "source": [
    "N = 100 #number of people\n",
    "sigma = 0.5 #noise variance\n",
    "seuil = 0.3 #threshold for rate departure \n",
    "gonne = 0.25 #people who need to go \n",
    "mad = 0 #people who think it's better to go earlier \n",
    "f = 1/4\n",
    "\n",
    "for i in range (0,100):\n",
    "    \n",
    "    #estiamtion of the rate of departure \n",
    "    f_estimate = abs(np.random.normal(f,sigma,size=N))\n",
    "    f_estimate[np.where(f_estimate>1)[0]]=1\n",
    "    \n",
    "    #calculation of the number of mad people \n",
    "    indexes = np.arange(N)\n",
    "    indexes_mad_people = np.where(f_estimate>seuil)[0]\n",
    "    mad = len(indexes_mad_people)/N\n",
    "    \n",
    "    #new people who enter the bank\n",
    "    new = int(np.random.normal(10,7))\n",
    "    \n",
    "    #rate of departure and number of people in the bank\n",
    "    f = gonne + mad\n",
    "    N = int(N - f*N + new)\n",
    "    if N == 0 or N<0 :\n",
    "        print(\"Bankruuuuupt T_T\") \n",
    "        break\n",
    "    \n",
    "    print(f,mad,N)\n",
    "    "
   ]
  },
  {
   "cell_type": "code",
   "execution_count": null,
   "metadata": {},
   "outputs": [],
   "source": []
  }
 ],
 "metadata": {
  "kernelspec": {
   "display_name": "Python 3",
   "language": "python",
   "name": "python3"
  },
  "language_info": {
   "codemirror_mode": {
    "name": "ipython",
    "version": 3
   },
   "file_extension": ".py",
   "mimetype": "text/x-python",
   "name": "python",
   "nbconvert_exporter": "python",
   "pygments_lexer": "ipython3",
   "version": "3.7.6"
  }
 },
 "nbformat": 4,
 "nbformat_minor": 4
}
